{
 "cells": [
  {
   "cell_type": "markdown",
   "metadata": {},
   "source": [
    "## Pulling data from Http Endpoint"
   ]
  },
  {
   "cell_type": "code",
   "execution_count": 1,
   "metadata": {},
   "outputs": [],
   "source": [
    "base_url= \"https://api.exchangeratesapi.io/latest\""
   ]
  },
  {
   "cell_type": "code",
   "execution_count": 2,
   "metadata": {},
   "outputs": [],
   "source": [
    "import requests"
   ]
  },
  {
   "cell_type": "code",
   "execution_count": 3,
   "metadata": {},
   "outputs": [],
   "source": [
    "response=requests.get(base_url)"
   ]
  },
  {
   "cell_type": "code",
   "execution_count": 4,
   "metadata": {},
   "outputs": [
    {
     "data": {
      "text/plain": [
       "True"
      ]
     },
     "execution_count": 4,
     "metadata": {},
     "output_type": "execute_result"
    }
   ],
   "source": [
    "response.ok"
   ]
  },
  {
   "cell_type": "code",
   "execution_count": 5,
   "metadata": {},
   "outputs": [
    {
     "data": {
      "text/plain": [
       "200"
      ]
     },
     "execution_count": 5,
     "metadata": {},
     "output_type": "execute_result"
    }
   ],
   "source": [
    "response.status_code"
   ]
  },
  {
   "cell_type": "code",
   "execution_count": 6,
   "metadata": {},
   "outputs": [
    {
     "data": {
      "text/plain": [
       "'{\"rates\":{\"CAD\":1.5265,\"HKD\":8.4259,\"ISK\":155.9,\"PHP\":54.939,\"DKK\":7.4657,\"HUF\":354.76,\"CZK\":26.909,\"AUD\":1.7444,\"RON\":4.833,\"SEK\":10.9455,\"IDR\":17243.21,\"INR\":82.9275,\"BRL\":5.5956,\"RUB\":80.69,\"HRK\":7.6175,\"JPY\":118.33,\"THB\":35.665,\"CHF\":1.0558,\"SGD\":1.5479,\"PLN\":4.5586,\"BGN\":1.9558,\"TRY\":7.3233,\"CNY\":7.6709,\"NOK\":11.2143,\"NZD\":1.8128,\"ZAR\":19.6383,\"USD\":1.0867,\"MXN\":26.0321,\"ILS\":3.8919,\"GBP\":0.87565,\"KRW\":1322.49,\"MYR\":4.7136},\"base\":\"EUR\",\"date\":\"2020-04-09\"}'"
      ]
     },
     "execution_count": 6,
     "metadata": {},
     "output_type": "execute_result"
    }
   ],
   "source": [
    "response.text"
   ]
  },
  {
   "cell_type": "code",
   "execution_count": 7,
   "metadata": {},
   "outputs": [
    {
     "data": {
      "text/plain": [
       "b'{\"rates\":{\"CAD\":1.5265,\"HKD\":8.4259,\"ISK\":155.9,\"PHP\":54.939,\"DKK\":7.4657,\"HUF\":354.76,\"CZK\":26.909,\"AUD\":1.7444,\"RON\":4.833,\"SEK\":10.9455,\"IDR\":17243.21,\"INR\":82.9275,\"BRL\":5.5956,\"RUB\":80.69,\"HRK\":7.6175,\"JPY\":118.33,\"THB\":35.665,\"CHF\":1.0558,\"SGD\":1.5479,\"PLN\":4.5586,\"BGN\":1.9558,\"TRY\":7.3233,\"CNY\":7.6709,\"NOK\":11.2143,\"NZD\":1.8128,\"ZAR\":19.6383,\"USD\":1.0867,\"MXN\":26.0321,\"ILS\":3.8919,\"GBP\":0.87565,\"KRW\":1322.49,\"MYR\":4.7136},\"base\":\"EUR\",\"date\":\"2020-04-09\"}'"
      ]
     },
     "execution_count": 7,
     "metadata": {},
     "output_type": "execute_result"
    }
   ],
   "source": [
    "response.content"
   ]
  },
  {
   "cell_type": "code",
   "execution_count": 8,
   "metadata": {},
   "outputs": [
    {
     "data": {
      "text/plain": [
       "{'rates': {'CAD': 1.5265,\n",
       "  'HKD': 8.4259,\n",
       "  'ISK': 155.9,\n",
       "  'PHP': 54.939,\n",
       "  'DKK': 7.4657,\n",
       "  'HUF': 354.76,\n",
       "  'CZK': 26.909,\n",
       "  'AUD': 1.7444,\n",
       "  'RON': 4.833,\n",
       "  'SEK': 10.9455,\n",
       "  'IDR': 17243.21,\n",
       "  'INR': 82.9275,\n",
       "  'BRL': 5.5956,\n",
       "  'RUB': 80.69,\n",
       "  'HRK': 7.6175,\n",
       "  'JPY': 118.33,\n",
       "  'THB': 35.665,\n",
       "  'CHF': 1.0558,\n",
       "  'SGD': 1.5479,\n",
       "  'PLN': 4.5586,\n",
       "  'BGN': 1.9558,\n",
       "  'TRY': 7.3233,\n",
       "  'CNY': 7.6709,\n",
       "  'NOK': 11.2143,\n",
       "  'NZD': 1.8128,\n",
       "  'ZAR': 19.6383,\n",
       "  'USD': 1.0867,\n",
       "  'MXN': 26.0321,\n",
       "  'ILS': 3.8919,\n",
       "  'GBP': 0.87565,\n",
       "  'KRW': 1322.49,\n",
       "  'MYR': 4.7136},\n",
       " 'base': 'EUR',\n",
       " 'date': '2020-04-09'}"
      ]
     },
     "execution_count": 8,
     "metadata": {},
     "output_type": "execute_result"
    }
   ],
   "source": [
    "response.json()"
   ]
  },
  {
   "cell_type": "code",
   "execution_count": 10,
   "metadata": {},
   "outputs": [
    {
     "data": {
      "text/plain": [
       "dict"
      ]
     },
     "execution_count": 10,
     "metadata": {},
     "output_type": "execute_result"
    }
   ],
   "source": [
    "type(response.json())"
   ]
  },
  {
   "cell_type": "code",
   "execution_count": null,
   "metadata": {},
   "outputs": [],
   "source": []
  }
 ],
 "metadata": {
  "kernelspec": {
   "display_name": "Python 3",
   "language": "python",
   "name": "python3"
  },
  "language_info": {
   "codemirror_mode": {
    "name": "ipython",
    "version": 3
   },
   "file_extension": ".py",
   "mimetype": "text/x-python",
   "name": "python",
   "nbconvert_exporter": "python",
   "pygments_lexer": "ipython3",
   "version": "3.7.6"
  }
 },
 "nbformat": 4,
 "nbformat_minor": 4
}
